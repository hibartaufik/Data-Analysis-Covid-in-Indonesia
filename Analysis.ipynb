# 1. Data Preparation
# 1.1 Import libraries
import pandas as pd
import matplotlib.pyplot as plt
import seaborn as sns
import numpy as np

# 1.2 Import Dataset
df = pd.read_csv('./dataset/covid_19_indonesia_time_series_all.csv')
df.head()

# 2. Exploratory Data Analysis
# 2.1 Memahami Isi Data

# highlight 5 data teratas
df.head()
# melihat tipe data di tiap kolom/feature
df.info()
# melihat dimensi dari dataset
df.shape
# melihat summary statistics dari tiap kolom
df.describe()
# melihat data null dalam dataset
df.isnull().sum()
# melihat korelasi/hubungan tiap data antar kolom/feature
df.corr()
# visualisasi heatmap hubungan antar feature
mask = np.triu(df.corr())
plt.style.use('seaborn')
fg, ax = plt.subplots(figsize=(22, 12), dpi=200)
sns.heatmap(df.corr(), mask=mask, cmap='Reds', annot=True, linewidths=1)
plt.title('KORELASI TIAP FEATURE', fontweight='bold', fontsize=20)
plt.xticks(rotation=30)
plt.show()
# menambahkan kolom tahun
df['Year'] = df['Date'].str[-4:]
df['Year'] = df['Year'].astype('int32')

# 2.2 Analisa Data

# Q1: Per tanggal berapa kasus baru COVID-19 terbanyak ditemukan dalam satu hari?

# A1.1 : Urutan 10 tanggal dengan kasus COVID-19 paling banyak
top_10_date_new_cases = df.sort_values(by='New Cases', ascending=False, ignore_index=True)[['Date', 'New Cases']][:10]
top_10_date_new_cases

# A1.2 : Visualisasi kenaikan 'New Cases' berdasarkan urutan 10 tanggal dengan kasus COVID-19 paling banyak per hari
top_10_date_new_cases = df.sort_values(by='New Cases', ascending=False, ignore_index=True)[['Date', 'New Cases']][:10]

x = list(top_10_date_new_cases.sort_values(by='Date').to_dict()['Date'].values())
y = list(top_10_date_new_cases.sort_values(by='Date').to_dict()['New Cases'].values())

plt.style.use('seaborn')
fg, ax = plt.subplots(figsize=(16,6), dpi=200)
sns.lineplot(x=x, y=y, color='blue', marker='o', linewidth=1)
plt.ylim(ymin=12000)
labels, locations = plt.yticks()
plt.yticks(labels, (labels/1000).astype(float))
plt.text(0.64, 0.81, 'Puncak kasus COVID-19 per hari sebanyak 14.518', fontsize=12,transform=fg.transFigure, color='red')
plt.title('Laju Pertumbuhan Kasus COVID-19 Per Tanggal 15 Januari - 6 Februari 2021', fontsize=18, fontweight='bold', pad=40)
plt.xlabel('Tanggal', fontsize=12, fontweight='bold')
plt.ylabel('Jumlah Kasus (Ribu)', fontsize=12, fontweight='bold')
plt.show()

# Q2: Provinsi mana saja yang memiliki kasus baru terbanyak per hari?

# A2.1: Urutan 5 provinsi dengan penemuan kasus COVID-19 per hari terbanyak

df_not_ll = df.loc[df['Location Level'] == 'Province'].sort_values(by='New Cases', ascending=False)[['Province', 'New Cases']]
df_not_ll.groupby('Province')[['New Cases']].sum().sort_values(by='New Cases', ascending=False)[:5]

# A2.2: Visualisasi perbandingan antar provinsi dengan total penemuan kasus COVID-19 per hari terbanyak

a22 = df_not_ll.groupby('Province')[['New Cases']].sum().sort_values(by='New Cases', ascending=False)[:5]
x = list(a22.to_dict()['New Cases'].keys())
y = list(a22.to_dict()['New Cases'].values())

plt.style.use('seaborn')
fg, ax = plt.subplots(figsize=(16,6), dpi=200)
sns.barplot(x=x, y=y, color='blue')
plt.ylim(ymax=450000)
plt.title('Perbandingan Tiap Provinsi dengan Total Penemuan Kasus Baru COVID-19 per Hari', fontsize=18, fontweight='bold', pad=40)
plt.xlabel('Provinsi', fontsize=12, fontweight='bold')
plt.ylabel('Jumlah Kasus', fontsize=12, fontweight='bold')
plt.show()

# Q3: Pulau mana saja yang memiliki kasus per hari terbanyak?

# A3.1: Pulau dengan jumlah kasus per hari terbanyak

top_islands_new_cases = df.loc[df.Island != None].groupby(['Island'])[['New Cases']].sum().sort_values(by='New Cases', ascending=False)
top_islands_new_cases

# A3.2: Visualisasi perbandingan tiap pulau dengan jumlah kasus per hari terbanyak

x = list(top_islands_new_cases.to_dict()['New Cases'].keys())
y = list(top_islands_new_cases.to_dict()['New Cases'].values())

plt.style.use('seaborn')
fg, ax = plt.subplots(figsize=(16,4), dpi=200)
sns.barplot(x=x, y=y, color='blue')
plt.title('Perbandingan Tiap Pulau dengan Total Penemuan Kasus Baru COVID-19 per Hari', fontsize=18, fontweight='bold', pad=20)
plt.xlabel('Pulau', fontsize=12, fontweight='bold')
plt.ylabel('Jumlah Kasus', fontsize=12, fontweight='bold')
labels, location = plt.yticks()
plt.yticks(labels, (labels/1000000).astype(float))
plt.show()

# Q4: Provinsi manakah dengan total rata-rata kesembuhan paling tinggi per hari?
# A4.1: Urutan provinsi dengan total rata-rata kesembuhan paling tinggi per hari

top_province_new_rcvry = df.loc[df['Location Level'] == 'Province'].groupby(['Province'])[['New Recovered']].sum().sort_values(by='New Recovered', ascending=False)
top_province_new_rcvry[:10]

# A4.2: Visualisasi perbandingan provinsi dengan total rata-rata kesembuhan tertinggi per hari

x = list(top_province_new_rcvry[:10].to_dict()['New Recovered'].keys())
y = list(top_province_new_rcvry[:10].to_dict()['New Recovered'].values())

plt.style.use('seaborn')
fg, ax = plt.subplots(figsize=(16,6), dpi=200)
sns.barplot(x=x, y=y, color='blue')
plt.title('Perbandingan Provinsi dengan Total Rata-Rata Kesembuhan Tertinggi per hari', fontsize=18, fontweight='bold', pad=20)
plt.xlabel('Provinsi', fontsize=12, fontweight='bold')
plt.ylabel('Jumlah Kesembuhan', fontsize=12, fontweight='bold')
plt.ylim(ymax=400000)
plt.show()
