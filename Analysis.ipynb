# Project 2: Data Analysis [COVID-19 Indonesia Dataset]
# 1. Data Preparation
# 1.1 Import Libraries
# Import beberapa library yang dibutuhkan
import pandas as pd
import matplotlib.pyplot as plt
import seaborn as sns
import numpy as np

1.2 Import Dataset
# Import dataset yang akan digunakan, lalu tampilkan dataset untuk mengecek apakah import berhasil atau tidak
df = pd.read_csv('./dataset/covid_19_indonesia_time_series_all.csv')
df.head()

# 2. Data Wrangling
# 2.1 Memahami Isi Data
# 2.2 Menemukan dan Membuang Data yang Tidak Dibutuhkan
# - Memeriksa data tiap kolom/feature
df.info()
df.shape
df.isnull().sum()

# - Drop kolom/feature yang dirasa tidak dibutuhkan
df.drop(['Location ISO Code', 'City or Regency', 'Country', 'Continent', 'Time Zone', 'Special Status', 'Total Cities', 'Total Districts', 'Total Regencies', 'Total Urban Villages', 'Total Rural Villages', 'Area (km2)', 'New Cases per Million', 'Total Cases per Million', 'New Deaths per Million', 'Total Deaths per Million', 'Growth Factor of New Cases', 'Growth Factor of New Deaths'], axis=1, inplace=True)
df.info()

# - Ubah tipe data Date menjadi tipe data datetime agar menghindari kesalahan dalam pengurutan time-series untuk visualisasi
df['Date'] = pd.to_datetime(df['Date'], format="%m/%d/%Y")

# 3. Data Analysis
# melihat korelasi/hubungan tiap data antar kolom/feature
df.corr()

# visualisasi heatmap hubungan antar feature
mask = np.triu(df.corr())
plt.style.use('seaborn')
fg, ax = plt.subplots(figsize=(18, 7), dpi=200)
sns.heatmap(df.corr(), mask=mask, cmap='Reds', annot=True, linewidths=1)
plt.title('KORELASI TIAP FEATURE', fontweight='bold', fontsize=20)
plt.xticks(rotation=30)
plt.show()

# 3.1 Q1: Per tanggal berapa kasus baru COVID-19 terbanyak ditemukan dalam satu hari?
# A1.1 : Urutan 10 tanggal dengan kasus COVID-19 paling banyak
top_10_date_new_cases = df.sort_values(by='New Cases', ascending=False, ignore_index=True)[['Date', 'New Cases']][:10]
top_10_date_new_cases

# A1.2 : Visualisasi kenaikan 'New Cases' berdasarkan urutan 10 tanggal dengan kasus COVID-19 paling banyak per hari
# mengakses data dan memasukannya ke dalam list agar dapat di-visualisasikan
x1_2 = list(top_10_date_new_cases.sort_values(by='Date').to_dict()['Date'].values())
y1_2 = list(top_10_date_new_cases.sort_values(by='Date').to_dict()['New Cases'].values())

plt.style.use('seaborn')
fg, ax = plt.subplots(figsize=(16,6), dpi=200)
sns.lineplot(x=x1_2, y=y1_2, color='blue', marker='o', linewidth=1)
plt.ylim(ymin=12000, ymax=15000)
plt.text(0.64, 0.81, 'Puncak kasus COVID-19 per hari sebanyak 14.518', fontsize=12,transform=fg.transFigure, color='red')
plt.title('Laju Pertumbuhan Kasus COVID-19 Per Tanggal 15 Januari - 6 Februari 2021', fontsize=18, fontweight='bold', pad=40)
plt.xlabel('Tanggal', fontsize=12, fontweight='bold')
plt.ylabel('Jumlah Kasus', fontsize=12, fontweight='bold')
plt.show()

# 3.2 Q2: Provinsi mana saja yang memiliki kasus baru terbanyak per hari?
# A2.1: Urutan 5 provinsi dengan penemuan kasus COVID-19 per hari terbanyak

df_not_ll = df.loc[df['Location Level'] == 'Province'].sort_values(by='New Cases', ascending=False)[['Province', 'New Cases']]
df_not_ll.groupby('Province')[['New Cases']].sum().sort_values(by='New Cases', ascending=False)[:5]

A2.2: Visualisasi perbandingan antar provinsi dengan total penemuan kasus COVID-19 per hari terbanyak

a22 = df_not_ll.groupby('Province')[['New Cases']].sum().sort_values(by='New Cases', ascending=False)[:5]
x2_2 = list(a22.to_dict()['New Cases'].keys())
y2_2 = list(a22.to_dict()['New Cases'].values())

plt.style.use('seaborn')
fg, ax = plt.subplots(figsize=(16,6), dpi=200)
sns.barplot(x=x2_2, y=y2_2, color='blue')
plt.ylim(ymax=450000)
plt.title('Perbandingan Tiap Provinsi dengan Total Penemuan Kasus Baru COVID-19 per Hari', fontsize=18, fontweight='bold', pad=40)
plt.xlabel('Provinsi', fontsize=12, fontweight='bold')
plt.ylabel('Jumlah Kasus', fontsize=12, fontweight='bold')
plt.show()

# 3.3 Q3: Pulau mana saja yang memiliki kasus per hari terbanyak?
# A3.1: Pulau dengan jumlah kasus per hari terbanyak

top_islands_new_cases = df.loc[df.Island != None].groupby(['Island'])[['New Cases']].sum().sort_values(by='New Cases', ascending=False)
top_islands_new_cases

# A3.2: Visualisasi perbandingan tiap pulau dengan jumlah kasus per hari terbanyak

x3_2 = list(top_islands_new_cases.to_dict()['New Cases'].keys())
y3_2 = list(top_islands_new_cases.to_dict()['New Cases'].values())

plt.style.use('seaborn')
fg, ax = plt.subplots(figsize=(16,4), dpi=200)
sns.barplot(x=x3_2, y=y3_2, color='blue')
plt.title('Perbandingan Tiap Pulau dengan Total Penemuan Kasus Baru COVID-19 per Hari', fontsize=18, fontweight='bold', pad=20)
plt.xlabel('Pulau', fontsize=12, fontweight='bold')
plt.ylabel('Jumlah Kasus (Juta)', fontsize=12, fontweight='bold')
labels, location = plt.yticks()
plt.yticks(labels, (labels/1000000).astype(float))
plt.show()

# 3.4 Q4: Provinsi manakah dengan total rata-rata kesembuhan paling tinggi per hari?
# A4.1: Urutan provinsi dengan kesembuhan paling tinggi per hari

top_province_new_rcvry = df.loc[df['Location Level'] == 'Province'].groupby(['Province'])[['New Recovered']].sum().sort_values(by='New Recovered', ascending=False)
top_province_new_rcvry[:10]

# A4.2: Visualisasi perbandingan provinsi dengan kesembuhan tertinggi per hari

x4_2 = list(top_province_new_rcvry[:10].to_dict()['New Recovered'].keys())
y4_2 = list(top_province_new_rcvry[:10].to_dict()['New Recovered'].values())

plt.style.use('seaborn')
fg, ax = plt.subplots(figsize=(16,6), dpi=200)
sns.barplot(x=x4_2, y=y4_2, color='blue')
plt.title('Perbandingan Provinsi dengan Total Rata-Rata Kesembuhan Tertinggi per hari', fontsize=18, fontweight='bold', pad=20)
plt.xlabel('Provinsi', fontsize=12, fontweight='bold')
plt.ylabel('Jumlah Kesembuhan', fontsize=12, fontweight='bold')
plt.ylim(ymax=400000)
plt.show()

# 3.5 Q5: Visualization Based Time Series in Big Picture

data_plot = df.groupby('Date').agg({'New Cases':'sum', 'New Deaths':'sum', 'New Recovered':'sum', 'New Active Cases':'sum'})

fg, ax = plt.subplots(figsize=(12, 6), dpi=800)
plt.plot(data_plot)
plt.show()
